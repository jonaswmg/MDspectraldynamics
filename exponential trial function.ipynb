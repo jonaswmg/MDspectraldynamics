{
 "cells": [
  {
   "cell_type": "code",
   "execution_count": 15,
   "id": "13314ee6-98f0-4b1c-9d48-55cbb36d00cc",
   "metadata": {},
   "outputs": [
    {
     "data": {
      "application/vnd.jupyter.widget-view+json": {
       "model_id": "0605bc553f1847d0ae19d3d1079729f5",
       "version_major": 2,
       "version_minor": 0
      },
      "text/plain": [
       "interactive(children=(FloatSlider(value=1.0, description='a', max=500.0, min=-1000.0), FloatSlider(value=0.001…"
      ]
     },
     "metadata": {},
     "output_type": "display_data"
    },
    {
     "data": {
      "text/plain": [
       "<function __main__.plot_exponential(a, b, c)>"
      ]
     },
     "execution_count": 15,
     "metadata": {},
     "output_type": "execute_result"
    }
   ],
   "source": [
    "import numpy as np\n",
    "import matplotlib.pyplot as plt\n",
    "from ipywidgets import interact, FloatSlider\n",
    "\n",
    "def plot_exponential(a, b, c):\n",
    "    x = np.linspace(0, 700, 300)\n",
    "    y = a * np.exp(b * (x-c))\n",
    "    \n",
    "    plt.figure(figsize=(10, 6))\n",
    "    plt.plot(x, y, label=f'y = {a} * exp({b} * (x - {c}))')\n",
    "    plt.xlim(0, 700)\n",
    "    plt.ylim(-300, 600)\n",
    "    plt.xlabel('x')\n",
    "    plt.ylabel('y')\n",
    "    plt.title('Exponential Function')\n",
    "    plt.legend()\n",
    "    plt.grid(True)\n",
    "    plt.show()\n",
    "\n",
    "# Create sliders for the parameters a and b\n",
    "interact(plot_exponential, \n",
    "         a=FloatSlider(min=-1000, max=500, step=0.1, value=1, description='a'), \n",
    "         b=FloatSlider(min=-1, max=0.01, step=0.001, value=0.001, description='b'),\n",
    "         c=FloatSlider(min=0, max=500, step=2, value=0, description='c'))\n"
   ]
  },
  {
   "cell_type": "code",
   "execution_count": null,
   "id": "53ddc2e9-5501-4d0e-84b9-aeafd9d7573b",
   "metadata": {},
   "outputs": [],
   "source": []
  }
 ],
 "metadata": {
  "kernelspec": {
   "display_name": "Python 3 (ipykernel)",
   "language": "python",
   "name": "python3"
  },
  "language_info": {
   "codemirror_mode": {
    "name": "ipython",
    "version": 3
   },
   "file_extension": ".py",
   "mimetype": "text/x-python",
   "name": "python",
   "nbconvert_exporter": "python",
   "pygments_lexer": "ipython3",
   "version": "3.10.12"
  }
 },
 "nbformat": 4,
 "nbformat_minor": 5
}
